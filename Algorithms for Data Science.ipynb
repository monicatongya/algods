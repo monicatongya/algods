{
 "cells": [
  {
   "cell_type": "markdown",
   "metadata": {},
   "source": [
    "Insertion sort\n",
    "Input: A list A of n integers x1,...,xn.\n",
    "Output: A permutation x′1, x′2, . . . , x′n of the n integers where they are sorted in non-decreasing order, i.e.,\n",
    "x′1 ≤x′2 ≤...≤x′n"
   ]
  },
  {
   "cell_type": "code",
   "execution_count": 3,
   "metadata": {
    "collapsed": true
   },
   "outputs": [],
   "source": [
    "def sort1(x):\n",
    "    n = len(x)\n",
    "    for i in range(n):\n",
    "        key = x[i]\n",
    "        j = i-1\n",
    "        while j >= 0 and key < x[j]:\n",
    "            x[j+1] = x[j]\n",
    "            j = j - 1\n",
    "        x[j+1] = key\n",
    "    return x"
   ]
  },
  {
   "cell_type": "code",
   "execution_count": 4,
   "metadata": {
    "collapsed": false
   },
   "outputs": [
    {
     "data": {
      "text/plain": [
       "[1, 2, 3, 4, 5, 10]"
      ]
     },
     "execution_count": 4,
     "metadata": {},
     "output_type": "execute_result"
    }
   ],
   "source": [
    "sort1([2,3,5,1,10,4])"
   ]
  },
  {
   "cell_type": "code",
   "execution_count": null,
   "metadata": {
    "collapsed": true
   },
   "outputs": [],
   "source": []
  }
 ],
 "metadata": {
  "kernelspec": {
   "display_name": "Python 3",
   "language": "python",
   "name": "python3"
  },
  "language_info": {
   "codemirror_mode": {
    "name": "ipython",
    "version": 3
   },
   "file_extension": ".py",
   "mimetype": "text/x-python",
   "name": "python",
   "nbconvert_exporter": "python",
   "pygments_lexer": "ipython3",
   "version": "3.5.1"
  }
 },
 "nbformat": 4,
 "nbformat_minor": 0
}
