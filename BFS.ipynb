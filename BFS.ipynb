{
 "cells": [
  {
   "cell_type": "markdown",
   "metadata": {},
   "source": [
    "# Connected Components\n",
    "\n",
    "The purpose of this assignment is to familiarize yourself with the handling of graph data structures. You will implement depth-first search for identifying the connected components of an undirected graph, implementing procedure Search as a subroutine along the way.\n",
    "\n",
    "You will use the [NetworkX](https://networkx.github.io/) Python package to represent and manipulate graphs. You should first familiarize yourself with its functionality by going through the brief [tutorial](http://networkx.github.io/documentation/networkx-1.9.1/tutorial/index.html). For this homework, you may only use the basic undirected graph methods listed [here](http://networkx.github.io/documentation/networkx-1.9.1/reference/classes.graph.html).\n",
    "\n",
    "As a use case, we will work with a dataset recording the interactions between characters in Homer's *Iliad*."
   ]
  },
  {
   "cell_type": "code",
   "execution_count": 61,
   "metadata": {
    "collapsed": false
   },
   "outputs": [],
   "source": [
    "import networkx as nx\n",
    "from urllib.request import urlopen\n",
    "import re\n",
    "import itertools\n",
    "import numpy as np\n",
    "import pandas as pd\n",
    "from queue import *"
   ]
  },
  {
   "cell_type": "code",
   "execution_count": 62,
   "metadata": {
    "collapsed": false
   },
   "outputs": [],
   "source": [
    "hm = urlopen('http://people.sc.fsu.edu/~jburkardt/datasets/sgb/homer.dat')\n",
    "homer = hm.read().decode('utf-8')"
   ]
  },
  {
   "cell_type": "markdown",
   "metadata": {},
   "source": [
    "The format of the data is straightforward. After some comment lines (beginning with \\*), the file lists a codename for each character (i.e., node of the graph), followed by a description. The file then lists the groups of characters that interact in each chapter, from which you will form the edges. For instance, the first line has the form:\n",
    "\n",
    "```1:CH,AG,ME,GS;AP,CH;HE,AC;AC,AG,CA;HE,AT;AT,AC;AT,OG;NE,AG,AC;CS,OD```\n",
    "\n",
    "This means that CH,AG,ME,GS interacted, so there are edges for all pairs of these nodes. Groups of characters that interacted are separated by semicolons. The lines start with chapter information of the form `1:` or `&:`, which can be ignored for this problem."
   ]
  },
  {
   "cell_type": "markdown",
   "metadata": {},
   "source": [
    "First implement a function to read in the nodes from the input file. You may implement any auxiliary functions as needed, and are encouraged to use small functions with specific purposes to keep your code readable. Any function you implement should be clearly commented."
   ]
  },
  {
   "cell_type": "code",
   "execution_count": 63,
   "metadata": {
    "collapsed": true
   },
   "outputs": [],
   "source": [
    "def read_nodes(gfile):\n",
    "    \"\"\"Reads in the nodes of the graph from the input file.\n",
    "    \n",
    "    Args:\n",
    "        gfile: A handle for the file containing the graph data, starting at the top.\n",
    "        \n",
    "    Returns:\n",
    "        A generator of the nodes in the graph, yielding a list of the form:\n",
    "            ['CH', 'AG, 'ME', ...]\n",
    "    \"\"\"\n",
    "    # TODO: implement function\n",
    "    pattern = '\\\\n([A-Z0-9]{2})\\s'\n",
    "    regex = re.compile(pattern)\n",
    "    nodes = regex.findall(gfile)\n",
    "    return nodes\n",
    "    pass"
   ]
  },
  {
   "cell_type": "markdown",
   "metadata": {},
   "source": [
    "Next implement a function to read in the edges from the input file."
   ]
  },
  {
   "cell_type": "code",
   "execution_count": 64,
   "metadata": {
    "collapsed": true
   },
   "outputs": [],
   "source": [
    "def read_edges(gfile):\n",
    "    \"\"\"Reads in the edges of the graph from the input file.\n",
    "    \n",
    "    Args:\n",
    "        gfile: A handle for the file containing the graph data, starting at the top \n",
    "            of the edges section.\n",
    "            \n",
    "    Returns:\n",
    "        A generator of the edges in the graph, yielding a list of pairs of the form:\n",
    "            [('CH', 'AG'), ('AG', 'ME'), ...]\n",
    "    \"\"\"\n",
    "    # TODO: implement function\n",
    "    pattern = '[:](.+?)[\\n]'\n",
    "    regex = re.compile(pattern)\n",
    "    s1 = regex.findall(gfile)\n",
    "    edgenodes =[]\n",
    "    edges = []\n",
    "    for i in range(len(s1)):\n",
    "        for edgeset in s1[i].split(';'):\n",
    "            s2 = (edgeset).split(',')\n",
    "            edgenodes.append(s2)\n",
    "    for eachset in edgenodes:\n",
    "        edges = edges + list(itertools.combinations(eachset,2))\n",
    "    return edges\n",
    "    pass"
   ]
  },
  {
   "cell_type": "markdown",
   "metadata": {},
   "source": [
    "The following code should now correctly create the graph."
   ]
  },
  {
   "cell_type": "code",
   "execution_count": 65,
   "metadata": {
    "collapsed": false
   },
   "outputs": [],
   "source": [
    "G = nx.Graph()\n",
    "G.add_nodes_from(read_nodes(homer))\n",
    "G.add_edges_from(read_edges(homer))"
   ]
  },
  {
   "cell_type": "markdown",
   "metadata": {},
   "source": [
    "Next implement procedure Search. The function takes in a graph and a root node, and returns a list of the nodes visited during the search. The nodes should appear in the order in which they were *first visited*. The neighbors of a node should be processed in *alphabetical order*, where numbers come before letters. This will ensure that the output of your function is uniquely defined, given any input node."
   ]
  },
  {
   "cell_type": "code",
   "execution_count": 69,
   "metadata": {
    "collapsed": true
   },
   "outputs": [],
   "source": [
    "def bfs(graph, root):\n",
    "    \"\"\"Runs breadth-first search through a graph, starting at a given root. Neighboring\n",
    "    nodes are processed in alphabetical order.\n",
    "    \n",
    "    Args:\n",
    "        graph: the given graph, with nodes encoded as strings.\n",
    "        root: the node from which to start the search.\n",
    "        \n",
    "    Returns:\n",
    "        A list of nodes in the order in which they were first visited.\n",
    "    \"\"\"\n",
    "    # TODO: implement function\n",
    "    # using data structure queue in python\n",
    "    discovered = dict.fromkeys(graph.nodes(),0)\n",
    "    dist = dict.fromkeys(graph.nodes(),float('inf'))\n",
    "    parent = dict.fromkeys(graph.nodes(),np.nan)\n",
    "    q = Queue(maxsize=0)\n",
    "    discovered[root] = 1\n",
    "    dist[root] = 0\n",
    "    parent[root] = np.nan\n",
    "    q.put(root)\n",
    "    visited=[]\n",
    "    while q.empty()==False:\n",
    "        u = q.get()\n",
    "        visited.append(u)\n",
    "        neigh = sorted(graph.neighbors(u))\n",
    "        for v in neigh:\n",
    "        #for (u,v) in graph.edges():\n",
    "            if discovered[v] == 0:\n",
    "                discovered[v] = 1\n",
    "                dist[v] = dist[u] + 1\n",
    "                parent[v] = u\n",
    "                q.put(v)\n",
    "                visited.append(v)\n",
    "    return visited           \n",
    "    pass"
   ]
  },
  {
   "cell_type": "code",
   "execution_count": 71,
   "metadata": {
    "collapsed": true
   },
   "outputs": [],
   "source": [
    "def bfs(graph, root):\n",
    "    \"\"\"Runs breadth-first search through a graph, starting at a given root. Neighboring\n",
    "    nodes are processed in alphabetical order.\n",
    "    \n",
    "    Args:\n",
    "        graph: the given graph, with nodes encoded as strings.\n",
    "        root: the node from which to start the search.\n",
    "        \n",
    "    Returns:\n",
    "        A list of nodes in the order in which they were first visited.\n",
    "    \"\"\"\n",
    "    # TODO: implement function\n",
    "    # without using data structure queue\n",
    "    discovered = dict.fromkeys(graph.nodes(),0)\n",
    "    dist = dict.fromkeys(graph.nodes(),float('inf'))\n",
    "    parent = dict.fromkeys(graph.nodes(),np.nan)\n",
    "    q = []\n",
    "    discovered[root] = 1\n",
    "    dist[root] = 0\n",
    "    parent[root] = np.nan\n",
    "    q.append(root)\n",
    "    visited=[root]\n",
    "    while len(q) >0:\n",
    "        u = q.pop(0)\n",
    "        neigh = sorted(graph.neighbors(u))\n",
    "        for v in neigh:\n",
    "        #for (u,v) in graph.edges():\n",
    "            if discovered[v] == 0:\n",
    "                discovered[v] = 1\n",
    "                dist[v] = dist[u] + 1\n",
    "                parent[v] = u\n",
    "                q.append(v)\n",
    "                visited.append(v)\n",
    "    return visited           \n",
    "    pass"
   ]
  },
  {
   "cell_type": "markdown",
   "metadata": {},
   "source": [
    "We will check the correctness of your code by verifying that it correctly computes the DFS tree starting at Ulysses (node `OD`)."
   ]
  },
  {
   "cell_type": "code",
   "execution_count": 72,
   "metadata": {
    "collapsed": false,
    "scrolled": false
   },
   "outputs": [],
   "source": [
    "ulysses = bfs(G, 'OD')"
   ]
  },
  {
   "cell_type": "markdown",
   "metadata": {},
   "source": [
    "Next implement DFS to find the connected components of the character graph. When choosing roots for your components, always pick the *smallest unvisited node* according to alphabetical ordering. Combined with your Search routine, this will ensure that the output is again uniquely defined."
   ]
  },
  {
   "cell_type": "code",
   "execution_count": 73,
   "metadata": {
    "collapsed": true
   },
   "outputs": [],
   "source": [
    "def connected_components(graph):\n",
    "    \"\"\"Computes the connected components of the given graph.\n",
    "    \n",
    "    Args: \n",
    "        graph: the given graph, with nodes encoded as strings.\n",
    "        \n",
    "    Returns:\n",
    "        The connected components of the graph. Components are listed in\n",
    "        alphabetical order of their root nodes.\n",
    "    \"\"\"\n",
    "    # TODO: implement function\n",
    "    nodes = sorted(graph.nodes())\n",
    "    SCC=[]\n",
    "    explored = dict.fromkeys(nodes,0)\n",
    "    def explore(x):\n",
    "        explored[x]=1\n",
    "    for u in nodes:\n",
    "        if explored[u]==0:\n",
    "            s = bfs(graph,u)\n",
    "            [explore(i) for i in s]\n",
    "            SCC.append(s)\n",
    "    return SCC\n",
    "    pass"
   ]
  },
  {
   "cell_type": "markdown",
   "metadata": {},
   "source": [
    "We will check correctness of your code by verifying that your output list is identical to our solution."
   ]
  },
  {
   "cell_type": "code",
   "execution_count": 74,
   "metadata": {
    "collapsed": false
   },
   "outputs": [],
   "source": [
    "character_interactions = connected_components(G)"
   ]
  },
  {
   "cell_type": "code",
   "execution_count": 75,
   "metadata": {
    "collapsed": false
   },
   "outputs": [
    {
     "name": "stdout",
     "output_type": "stream",
     "text": [
      "542 542\n",
      "2 2\n",
      "3 3\n",
      "1 1\n",
      "2 2\n",
      "1 1\n",
      "1 1\n",
      "2 2\n",
      "1 1\n",
      "1 1\n",
      "3 3\n",
      "2 2\n"
     ]
    }
   ],
   "source": [
    "for a in range(len(character_interactions)):\n",
    "    print(len(character_interactions[a]),len(set(character_interactions[a])))"
   ]
  },
  {
   "cell_type": "markdown",
   "metadata": {},
   "source": [
    "As a preliminary check, you should find that the following statements are all true."
   ]
  },
  {
   "cell_type": "code",
   "execution_count": 76,
   "metadata": {
    "collapsed": false
   },
   "outputs": [
    {
     "name": "stdout",
     "output_type": "stream",
     "text": [
      "There are 12 connected components in the Iliad: True\n",
      "The giant component has size 542: True\n",
      "There are 5 isolated characters: True\n"
     ]
    }
   ],
   "source": [
    "component_sizes = [len(c) for c in character_interactions]\n",
    "print(\"There are 12 connected components in the Iliad:\", len(component_sizes) == 12)\n",
    "print(\"The giant component has size 542:\", max(component_sizes) == 542)\n",
    "print(\"There are 5 isolated characters:\", len([c for c in component_sizes if c == 1]) == 5)"
   ]
  },
  {
   "cell_type": "code",
   "execution_count": 77,
   "metadata": {
    "collapsed": true
   },
   "outputs": [],
   "source": [
    "def is_bipartite(graph):\n",
    "    # TODO: implement function\n",
    "    # without using data structure queue\n",
    "    discovered = dict.fromkeys(graph.nodes(),0)\n",
    "    dist = dict.fromkeys(graph.nodes(),float('inf'))\n",
    "    parent = dict.fromkeys(graph.nodes(),np.nan)\n",
    "    color = dict.fromkeys(graph.nodes(),0)\n",
    "    q = []\n",
    "    nodes = sorted(graph.nodes())\n",
    "    for u in nodes:\n",
    "        if discovered[u]==0:\n",
    "            discovered[u] = 1\n",
    "            dist[u] = 0\n",
    "            parent[u] = np.nan\n",
    "            q.append(u)\n",
    "            visited=[u]\n",
    "        while len(q) >0:\n",
    "            u = q.pop(0)\n",
    "            color[u] = 'red'\n",
    "            neigh = sorted(graph.neighbors(u))\n",
    "            for v in neigh:\n",
    "            #for (u,v) in graph.edges():\n",
    "                if discovered[v] == 0:\n",
    "                    discovered[v] = 1\n",
    "                    dist[v] = dist[u] + 1\n",
    "                    parent[v] = u\n",
    "                    color[v] = \"white\"\n",
    "                    q.append(v)\n",
    "                    visited.append(v)\n",
    "            for a,b in neigh:\n",
    "                if (a,b) in graph.edges():\n",
    "                    return \"Graph is not bi-partite\"\n",
    "                    break\n",
    "                else:\n",
    "                    pass\n",
    "    \n",
    "    if sum(discovered.values())==len(nodes):\n",
    "        print(\"Graph is bi-partite\")"
   ]
  },
  {
   "cell_type": "code",
   "execution_count": 78,
   "metadata": {
    "collapsed": false
   },
   "outputs": [
    {
     "name": "stdout",
     "output_type": "stream",
     "text": [
      "Graph is bi-partite\n"
     ]
    }
   ],
   "source": [
    "is_bipartite(G)"
   ]
  },
  {
   "cell_type": "code",
   "execution_count": null,
   "metadata": {
    "collapsed": true
   },
   "outputs": [],
   "source": []
  }
 ],
 "metadata": {
  "kernelspec": {
   "display_name": "Python 3",
   "language": "python",
   "name": "python3"
  },
  "language_info": {
   "codemirror_mode": {
    "name": "ipython",
    "version": 3
   },
   "file_extension": ".py",
   "mimetype": "text/x-python",
   "name": "python",
   "nbconvert_exporter": "python",
   "pygments_lexer": "ipython3",
   "version": "3.5.2"
  }
 },
 "nbformat": 4,
 "nbformat_minor": 0
}
